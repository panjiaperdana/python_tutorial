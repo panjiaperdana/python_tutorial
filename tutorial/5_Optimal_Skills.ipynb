{
 "cells": [
  {
   "cell_type": "code",
   "id": "initial_id",
   "metadata": {
    "collapsed": true,
    "ExecuteTime": {
     "end_time": "2025-10-14T08:10:45.948366Z",
     "start_time": "2025-10-14T08:10:45.944415Z"
    }
   },
   "source": [
    "import ast\n",
    "import pandas as pd\n",
    "import seaborn as sns\n",
    "from datasets import load_dataset\n",
    "import matplotlib.pyplot as plt\n",
    "from matplotlib.ticker import PercentFormatter\n",
    "from adjustText import adjust_text"
   ],
   "outputs": [],
   "execution_count": 35
  },
  {
   "metadata": {
    "ExecuteTime": {
     "end_time": "2025-10-14T08:10:57.072424Z",
     "start_time": "2025-10-14T08:10:48.325599Z"
    }
   },
   "cell_type": "code",
   "source": [
    "# Loading Data\n",
    "dataset = load_dataset('lukebarousse/data_jobs')\n",
    "df = dataset['train'].to_pandas()\n",
    "# Copy original dataframe\n",
    "dfc = df.copy()"
   ],
   "id": "c7e261112e9fcbbd",
   "outputs": [],
   "execution_count": 36
  },
  {
   "metadata": {
    "ExecuteTime": {
     "end_time": "2025-10-14T08:11:13.066666Z",
     "start_time": "2025-10-14T08:10:58.150962Z"
    }
   },
   "cell_type": "code",
   "source": [
    "# Data Cleanup\n",
    "dfc['job_posted_date'] = pd.to_datetime(dfc['job_posted_date'])\n",
    "dfc['job_skills'] = dfc['job_skills'].apply(lambda x: ast.literal_eval(x) if pd.notna(x) else x)"
   ],
   "id": "9d4bc65cd97ff8e2",
   "outputs": [],
   "execution_count": 37
  },
  {
   "metadata": {
    "ExecuteTime": {
     "end_time": "2025-10-14T08:11:13.941576Z",
     "start_time": "2025-10-14T08:11:13.817970Z"
    }
   },
   "cell_type": "code",
   "source": [
    "df_DA_US = dfc[(dfc['job_title'] == 'Data Analyst') & (dfc['job_country'] == 'United States')]\n",
    "df_DA_US = df_DA_US.dropna(subset=['salary_year_avg'])\n",
    "df_DA_US_exploded = df_DA_US.explode('job_skills')\n",
    "df_DA_US_exploded[['salary_year_avg', 'job_skills']].head(5)"
   ],
   "id": "e7ca9f9a0404ee2",
   "outputs": [
    {
     "data": {
      "text/plain": [
       "      salary_year_avg job_skills\n",
       "1681         111175.0        sql\n",
       "1681         111175.0    tableau\n",
       "1681         111175.0   power bi\n",
       "1681         111175.0      excel\n",
       "3237         120000.0        sql"
      ],
      "text/html": [
       "<div>\n",
       "<style scoped>\n",
       "    .dataframe tbody tr th:only-of-type {\n",
       "        vertical-align: middle;\n",
       "    }\n",
       "\n",
       "    .dataframe tbody tr th {\n",
       "        vertical-align: top;\n",
       "    }\n",
       "\n",
       "    .dataframe thead th {\n",
       "        text-align: right;\n",
       "    }\n",
       "</style>\n",
       "<table border=\"1\" class=\"dataframe\">\n",
       "  <thead>\n",
       "    <tr style=\"text-align: right;\">\n",
       "      <th></th>\n",
       "      <th>salary_year_avg</th>\n",
       "      <th>job_skills</th>\n",
       "    </tr>\n",
       "  </thead>\n",
       "  <tbody>\n",
       "    <tr>\n",
       "      <th>1681</th>\n",
       "      <td>111175.0</td>\n",
       "      <td>sql</td>\n",
       "    </tr>\n",
       "    <tr>\n",
       "      <th>1681</th>\n",
       "      <td>111175.0</td>\n",
       "      <td>tableau</td>\n",
       "    </tr>\n",
       "    <tr>\n",
       "      <th>1681</th>\n",
       "      <td>111175.0</td>\n",
       "      <td>power bi</td>\n",
       "    </tr>\n",
       "    <tr>\n",
       "      <th>1681</th>\n",
       "      <td>111175.0</td>\n",
       "      <td>excel</td>\n",
       "    </tr>\n",
       "    <tr>\n",
       "      <th>3237</th>\n",
       "      <td>120000.0</td>\n",
       "      <td>sql</td>\n",
       "    </tr>\n",
       "  </tbody>\n",
       "</table>\n",
       "</div>"
      ]
     },
     "execution_count": 38,
     "metadata": {},
     "output_type": "execute_result"
    }
   ],
   "execution_count": 38
  },
  {
   "metadata": {
    "ExecuteTime": {
     "end_time": "2025-10-14T08:11:15.711082Z",
     "start_time": "2025-10-14T08:11:15.693442Z"
    }
   },
   "cell_type": "code",
   "source": [
    "df_DA_skills = df_DA_US_exploded.groupby('job_skills')['salary_year_avg'].agg(['count', 'median']).sort_values(by='count', ascending=False)\n",
    "df_DA_skills = df_DA_skills.rename(columns={'count': 'skill_count', 'median': 'median_salary'})\n",
    "\n",
    "DA_job_count = len(df_DA_US)\n",
    "df_DA_skills['skill_percent'] = df_DA_skills['skill_count'] / DA_job_count * 100\n",
    "skill_percent = 5\n",
    "df_DA_skills_high_demand = df_DA_skills[df_DA_skills['skill_percent'] > skill_percent]\n",
    "df_DA_skills_high_demand"
   ],
   "id": "82d485f8fb1ea147",
   "outputs": [
    {
     "data": {
      "text/plain": [
       "            skill_count  median_salary  skill_percent\n",
       "job_skills                                           \n",
       "sql                 714        87500.0      63.864043\n",
       "excel               472        77500.0      42.218247\n",
       "python              408        90000.0      36.493739\n",
       "tableau             398        90000.0      35.599284\n",
       "power bi            279        87500.0      24.955277\n",
       "r                   244        90000.0      21.824687\n",
       "sas                 200        84078.5      17.889088\n",
       "powerpoint          102        77500.0       9.123435\n",
       "word                 89        75000.0       7.960644\n",
       "aws                  75        92500.0       6.708408\n",
       "sql server           70        90000.0       6.261181\n",
       "azure                70        92500.0       6.261181\n",
       "go                   61        85000.0       5.456172\n",
       "looker               58        95500.0       5.187835\n",
       "spss                 58        78008.5       5.187835\n",
       "oracle               57        93027.0       5.098390\n",
       "flow                 56        90000.0       5.008945"
      ],
      "text/html": [
       "<div>\n",
       "<style scoped>\n",
       "    .dataframe tbody tr th:only-of-type {\n",
       "        vertical-align: middle;\n",
       "    }\n",
       "\n",
       "    .dataframe tbody tr th {\n",
       "        vertical-align: top;\n",
       "    }\n",
       "\n",
       "    .dataframe thead th {\n",
       "        text-align: right;\n",
       "    }\n",
       "</style>\n",
       "<table border=\"1\" class=\"dataframe\">\n",
       "  <thead>\n",
       "    <tr style=\"text-align: right;\">\n",
       "      <th></th>\n",
       "      <th>skill_count</th>\n",
       "      <th>median_salary</th>\n",
       "      <th>skill_percent</th>\n",
       "    </tr>\n",
       "    <tr>\n",
       "      <th>job_skills</th>\n",
       "      <th></th>\n",
       "      <th></th>\n",
       "      <th></th>\n",
       "    </tr>\n",
       "  </thead>\n",
       "  <tbody>\n",
       "    <tr>\n",
       "      <th>sql</th>\n",
       "      <td>714</td>\n",
       "      <td>87500.0</td>\n",
       "      <td>63.864043</td>\n",
       "    </tr>\n",
       "    <tr>\n",
       "      <th>excel</th>\n",
       "      <td>472</td>\n",
       "      <td>77500.0</td>\n",
       "      <td>42.218247</td>\n",
       "    </tr>\n",
       "    <tr>\n",
       "      <th>python</th>\n",
       "      <td>408</td>\n",
       "      <td>90000.0</td>\n",
       "      <td>36.493739</td>\n",
       "    </tr>\n",
       "    <tr>\n",
       "      <th>tableau</th>\n",
       "      <td>398</td>\n",
       "      <td>90000.0</td>\n",
       "      <td>35.599284</td>\n",
       "    </tr>\n",
       "    <tr>\n",
       "      <th>power bi</th>\n",
       "      <td>279</td>\n",
       "      <td>87500.0</td>\n",
       "      <td>24.955277</td>\n",
       "    </tr>\n",
       "    <tr>\n",
       "      <th>r</th>\n",
       "      <td>244</td>\n",
       "      <td>90000.0</td>\n",
       "      <td>21.824687</td>\n",
       "    </tr>\n",
       "    <tr>\n",
       "      <th>sas</th>\n",
       "      <td>200</td>\n",
       "      <td>84078.5</td>\n",
       "      <td>17.889088</td>\n",
       "    </tr>\n",
       "    <tr>\n",
       "      <th>powerpoint</th>\n",
       "      <td>102</td>\n",
       "      <td>77500.0</td>\n",
       "      <td>9.123435</td>\n",
       "    </tr>\n",
       "    <tr>\n",
       "      <th>word</th>\n",
       "      <td>89</td>\n",
       "      <td>75000.0</td>\n",
       "      <td>7.960644</td>\n",
       "    </tr>\n",
       "    <tr>\n",
       "      <th>aws</th>\n",
       "      <td>75</td>\n",
       "      <td>92500.0</td>\n",
       "      <td>6.708408</td>\n",
       "    </tr>\n",
       "    <tr>\n",
       "      <th>sql server</th>\n",
       "      <td>70</td>\n",
       "      <td>90000.0</td>\n",
       "      <td>6.261181</td>\n",
       "    </tr>\n",
       "    <tr>\n",
       "      <th>azure</th>\n",
       "      <td>70</td>\n",
       "      <td>92500.0</td>\n",
       "      <td>6.261181</td>\n",
       "    </tr>\n",
       "    <tr>\n",
       "      <th>go</th>\n",
       "      <td>61</td>\n",
       "      <td>85000.0</td>\n",
       "      <td>5.456172</td>\n",
       "    </tr>\n",
       "    <tr>\n",
       "      <th>looker</th>\n",
       "      <td>58</td>\n",
       "      <td>95500.0</td>\n",
       "      <td>5.187835</td>\n",
       "    </tr>\n",
       "    <tr>\n",
       "      <th>spss</th>\n",
       "      <td>58</td>\n",
       "      <td>78008.5</td>\n",
       "      <td>5.187835</td>\n",
       "    </tr>\n",
       "    <tr>\n",
       "      <th>oracle</th>\n",
       "      <td>57</td>\n",
       "      <td>93027.0</td>\n",
       "      <td>5.098390</td>\n",
       "    </tr>\n",
       "    <tr>\n",
       "      <th>flow</th>\n",
       "      <td>56</td>\n",
       "      <td>90000.0</td>\n",
       "      <td>5.008945</td>\n",
       "    </tr>\n",
       "  </tbody>\n",
       "</table>\n",
       "</div>"
      ]
     },
     "execution_count": 39,
     "metadata": {},
     "output_type": "execute_result"
    }
   ],
   "execution_count": 39
  },
  {
   "metadata": {
    "ExecuteTime": {
     "end_time": "2025-10-14T08:11:18.115804Z",
     "start_time": "2025-10-14T08:11:17.578363Z"
    }
   },
   "cell_type": "code",
   "source": [
    "df_DA_skills_high_demand.plot(kind='scatter', x='skill_percent', y='median_salary')\n",
    "\n",
    "# Text Preparation for adjustText\n",
    "texts = []\n",
    "for i, txt in enumerate(df_DA_skills_high_demand.index):\n",
    "    texts.append(plt.text(df_DA_skills_high_demand['skill_percent'].iloc[i], df_DA_skills_high_demand['median_salary'].iloc[i], txt))\n",
    "\n",
    "# Adjust text to avoid overlap\n",
    "adjust_text(texts, arrowprops=dict(arrowstyle=\"->\"), color='gray')\n",
    "\n",
    "# Set axis labels, title, and legend\n",
    "plt.xlabel('Percent of Data Analyst Jobs')\n",
    "plt.ylabel('Median Yearly Salary')\n",
    "plt.title('Most Optimal Skills for Data Analysis in the US')\n",
    "\n",
    "ax = plt.gca()\n",
    "ax.yaxis.set_major_formatter(plt.FuncFormatter(lambda y, pos: f'${int(y/1000)}K'))\n",
    "ax.xaxis.set_major_formatter(PercentFormatter(decimals=0))\n",
    "\n",
    "# Adjust layout and display plot\n",
    "plt.tight_layout()\n",
    "plt.show()"
   ],
   "id": "86c6ff508c708e5a",
   "outputs": [
    {
     "data": {
      "text/plain": [
       "<Figure size 640x480 with 1 Axes>"
      ],
      "image/png": "[encoded data removed]"
     },
     "metadata": {},
     "output_type": "display_data",
     "jetTransient": {
      "display_id": null
     }
    }
   ],
   "execution_count": 40
  }
 ],
 "metadata": {
  "kernelspec": {
   "display_name": "Python 3",
   "language": "python",
   "name": "python3"
  },
  "language_info": {
   "codemirror_mode": {
    "name": "ipython",
    "version": 2
   },
   "file_extension": ".py",
   "mimetype": "text/x-python",
   "name": "python",
   "nbconvert_exporter": "python",
   "pygments_lexer": "ipython2",
   "version": "2.7.6"
  }
 },
 "nbformat": 4,
 "nbformat_minor": 5
}
